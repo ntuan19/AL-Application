{
  "nbformat": 4,
  "nbformat_minor": 0,
  "metadata": {
    "kernelspec": {
      "display_name": "Python 3",
      "language": "python",
      "name": "python3"
    },
    "language_info": {
      "codemirror_mode": {
        "name": "ipython",
        "version": 3
      },
      "file_extension": ".py",
      "mimetype": "text/x-python",
      "name": "python",
      "nbconvert_exporter": "python",
      "pygments_lexer": "ipython3",
      "version": "3.7.2"
    },
    "colab": {
      "name": "Assignment CS152 Final Version.ipynb",
      "provenance": []
    }
  },
  "cells": [
    {
      "cell_type": "markdown",
      "metadata": {
        "id": "n45nPlPuZh57"
      },
      "source": [
        "<h1>CS152 Assignment 2: The 8-puzzle</h1>\n",
        "\n",
        "Before you turn in this assignment, make sure everything runs as expected. First, **restart the kernel** (in the menubar, select Kernel$\\rightarrow$Restart) and then run the test cells for each of the questions you have answered.  Note that a grade of 3 for the A* implementation requires all tests in the \"Basic Functionality\" section to be passed.  The test cells pass if they execute with no errors (i.e. all the assertions are passed).\n",
        "\n",
        "Make sure you fill in any place that says `YOUR CODE HERE`.  Be sure to remove the `raise NotImplementedError()` statements as you implement your code - these are simply there as a reminder if you forget to add code where it's needed."
      ]
    },
    {
      "cell_type": "markdown",
      "metadata": {
        "id": "CncLcmKsZh6B"
      },
      "source": [
        "---"
      ]
    },
    {
      "cell_type": "markdown",
      "metadata": {
        "deletable": false,
        "editable": false,
        "nbgrader": {
          "cell_type": "markdown",
          "checksum": "3582513581b2e5d1806ee2b1117ac019",
          "grade": false,
          "grade_id": "5bb4ce",
          "locked": true,
          "schema_version": 3,
          "solution": false
        },
        "id": "e1e6EbEsZh6B"
      },
      "source": [
        "<h1>\n",
        "Question 1    \n",
        "</h1>\n",
        "Define your <code>PuzzleNode</code> class below.  Ensure that you include all attributes that you need to implement an A* search.  If you wish, you can even include member functions, such as a function to generate successor states.  Alternatively, you can code up this functionality later in the <code>solvePuzzle</code> function."
      ]
    },
    {
      "cell_type": "code",
      "metadata": {
        "deletable": false,
        "nbgrader": {
          "cell_type": "code",
          "checksum": "4326143183f9b58edcedbc64aed31100",
          "grade": false,
          "grade_id": "b5da05",
          "locked": false,
          "schema_version": 3,
          "solution": true,
          "task": false
        },
        "id": "b6gcGnLLZh6C"
      },
      "source": [
        "# YOUR CODE HERE (OPTIONAL)\n",
        "import tabulate\n",
        "import copy\n",
        "#Now, define the class PuzzleNode:\n",
        "class PuzzleNode:\n",
        "    \"\"\"\n",
        "    Class PuzzleNode: Provides a structure for performing A* search for the n^2-1 puzzle\n",
        "    \"\"\"\n",
        "    def __init__(self,state, depth, parent):\n",
        "        self.state = state #state as of list of lists\n",
        "        self.depth = depth #depth level of the nodes\n",
        "        self.f_val = 0  #evalute function value\n",
        "        self.parent = parent\n",
        "        self.pruned = False\n",
        "    #functions that print out the state of the board in beautiful/human-friendly way\n",
        "    def __str__(self):\n",
        "        return tabulate(self.state, tablefmt=\"fancy_grid\") \n",
        "    #function thatcompares based on the evaluation function\n",
        "    def __lt__(self, other):\n",
        "        return self.f_val < other.f_val\n",
        "    #function that finds the blank tile    \n",
        "    def find_blank_tile(self):\n",
        "        for x in range(len(self.state)):\n",
        "          for y in range(len(self.state)):\n",
        "            if self.state[x][y] == 0:\n",
        "              return x,y\n",
        "    #function that swap multiple tiles and create its following child.\n",
        "    def swap_create(self):\n",
        "      n = len(self.state)\n",
        "      #get the row,col value of empty tile\n",
        "      x,y = self.find_blank_tile()\n",
        "      #create list of lists of possible values if move the empty tile\n",
        "      new_blank_tile = [[x+1,y],[x-1,y],[x,y+1],[x,y-1]]\n",
        "      lst_new_state = []\n",
        "      for tile in new_blank_tile:\n",
        "          #only swap if specific conditions are met.\n",
        "          if 0<= tile[0] < n and 0 <= tile[1] < n:\n",
        "                 copycat_state = copy.deepcopy(self.state)\n",
        "                 copycat_state[x][y], copycat_state[tile[0]][tile[1]] = copycat_state[tile[0]][tile[1]],copycat_state[x][y]\n",
        "                 new_state = PuzzleNode(copycat_state, self.depth+1, self)\n",
        "                 lst_new_state.append(new_state)\n",
        "      return lst_new_state"
      ],
      "execution_count": 1,
      "outputs": []
    },
    {
      "cell_type": "code",
      "metadata": {
        "colab": {
          "base_uri": "https://localhost:8080/",
          "height": 0
        },
        "id": "YtFtl-1iwl60",
        "outputId": "a047a2c0-2bfc-4bac-fd78-6a4619b9eada"
      },
      "source": [
        "state =[[1,2,0],[3,4,6],[5,7,8]]\n",
        "node = PuzzleNode(state, depth=0,parent=None)\n",
        "a = node.swap_create()\n",
        "for i in a:\n",
        "  print(i.state)\n"
      ],
      "execution_count": 2,
      "outputs": [
        {
          "output_type": "stream",
          "name": "stdout",
          "text": [
            "[[1, 2, 6], [3, 4, 0], [5, 7, 8]]\n",
            "[[1, 0, 2], [3, 4, 6], [5, 7, 8]]\n"
          ]
        }
      ]
    },
    {
      "cell_type": "markdown",
      "metadata": {
        "deletable": false,
        "editable": false,
        "nbgrader": {
          "cell_type": "markdown",
          "checksum": "f523db3048f85be39ef3dc740b53fdba",
          "grade": false,
          "grade_id": "859d2c",
          "locked": true,
          "schema_version": 3,
          "solution": false
        },
        "id": "q6zk3mF9Zh6E"
      },
      "source": [
        "<h1>\n",
        "Question 2    \n",
        "</h1>\n",
        "Define your heuristic functions using the templates below.  Ensure that you extend the <code>heuristics</code> list to include all the heuristic functions you implement.  Note that state will be given as a list of lists, so ensure your function accepts this format.  You may use packages like numpy if you wish within the functions themselves."
      ]
    },
    {
      "cell_type": "code",
      "metadata": {
        "colab": {
          "base_uri": "https://localhost:8080/",
          "height": 0
        },
        "id": "Pz6fEr4pK3Jl",
        "outputId": "c7e873b1-bb77-4e86-d15c-51279415b22c"
      },
      "source": [
        "import numpy as np\n",
        "#function that returns a state as a list.\n",
        "def flatten_state(state):\n",
        "    n = len(state)\n",
        "    state_np = np.array(state).reshape(n,n)\n",
        "    flatten_state_np = state_np.flatten()\n",
        "    lst = flatten_state_np.tolist()\n",
        "    return lst\n",
        "print(flatten_state([[1,2,0],[3,4,6],[5,7,8]]))\n",
        "\n",
        "#function that returns a goal list based on given state\n",
        "def create_goal(state):\n",
        "  n = len(state)\n",
        "  flatten_goal = [i for i in range(n**2)]\n",
        "  return flatten_goal\n",
        "print(create_goal([[1,2,0],[3,4,6],[5,7,8]]))\n",
        "\n",
        "#function that return the tile value ( rows and colums)\n",
        "def find_tile(state,val):\n",
        "        for i in range(len(state)):\n",
        "          for j in range(len(state)):\n",
        "            if state[i][j] == val:\n",
        "              return i,j\n",
        "print(find_tile([[1,2,0],[3,4,6],[5,7,8]],3))"
      ],
      "execution_count": 3,
      "outputs": [
        {
          "output_type": "stream",
          "name": "stdout",
          "text": [
            "[1, 2, 0, 3, 4, 6, 5, 7, 8]\n",
            "[0, 1, 2, 3, 4, 5, 6, 7, 8]\n",
            "(1, 0)\n"
          ]
        }
      ]
    },
    {
      "cell_type": "code",
      "metadata": {
        "deletable": false,
        "nbgrader": {
          "cell_type": "code",
          "checksum": "686c6cabd6955171ad70aa6fd37d31a9",
          "grade": false,
          "grade_id": "3fb850",
          "locked": false,
          "schema_version": 3,
          "solution": true,
          "task": false
        },
        "id": "f6lPImo6Zh6F"
      },
      "source": [
        "# Add any additional code here (e.g. for the memoization extension)\n",
        "#function memorize will be later used as decorator.\n",
        "def memorize(h):\n",
        "  dict_memory = {}\n",
        "  def check(state):\n",
        "        if str(state) not in dict_memory:         \n",
        "            dict_memory[str(state)] = h(state)\n",
        "        return dict_memory[str(state)]\n",
        "  return check\n",
        "\n",
        "@memorize\n",
        "# Misplaced tiles heuristic\n",
        "def h1(state):\n",
        "    \"\"\"\n",
        "    This function returns the number of misplaced tiles, given the board state\n",
        "    Input:\n",
        "        -state: the board state as a list of lists\n",
        "    Output:\n",
        "        -h: the number of misplaced tiles\n",
        "    \"\"\"\n",
        "    goal_state = create_goal(state)\n",
        "    actual_state = flatten_state(state)\n",
        "    h = 0\n",
        "    for i in range(1,len(goal_state)):\n",
        "      if goal_state[i] != actual_state[i]:\n",
        "        h+=1\n",
        "    return h\n",
        "    \n",
        "# Manhattan distance heuristic\n",
        "@memorize  \n",
        "def h2(state):\n",
        "    \"\"\"\n",
        "    This function returns the Manhattan distance from the solved state, given the board state\n",
        "    Input:\n",
        "        -state: the board state as a list of lists\n",
        "    Output:\n",
        "        -h: the Manhattan distance from the solved configuration\n",
        "    \"\"\"\n",
        "    m = len(state)\n",
        "    \n",
        "    state = np.array(state).reshape(m, m)\n",
        "        \n",
        "    cur_state =  flatten_state(state)\n",
        "    goal_state = create_goal(state)\n",
        "\n",
        "    manhattan = [abs(a % m - b % m) + abs(a//m - b//m) for\n",
        "                      a, b in ((cur_state.index(i), goal_state.index(i)) for\n",
        "                      i in range(1, len(goal_state)))]\n",
        "        \n",
        "    return sum(manhattan)\n",
        "    \n",
        "\n",
        "@memorize\n",
        "def h3(state):\n",
        "    \"\"\"\n",
        "    This function returns a heuristic that dominates the Manhattan distance, given the board state\n",
        "    Input:\n",
        "        -state: the board state as a list of lists\n",
        "    Output:\n",
        "        -h: the Heuristic distance of the state from its solved configuration\n",
        "    \"\"\"\n",
        "    m = len(state)\n",
        "    toal_conflicts = 0\n",
        "    #generate goal as list of lists\n",
        "    goal = np.array(create_goal(state)).reshape(len(state),len(state)).tolist()\n",
        "    row_conflicts = 0\n",
        "    # check each row\n",
        "    for i in range(m):\n",
        "        row = state[i]\n",
        "        conflicts = 0\n",
        "        # cross-check each element \n",
        "        for j in range(len(row)):\n",
        "            for h in range(len(row)):\n",
        "                if row[h] != 0 and j != h and row[j] != 0:\n",
        "                    # coordinates in the state \n",
        "                    a1, b1 = find_tile(state, row[j])\n",
        "                    a2, b2 = find_tile(state, row[h])\n",
        "                    a3, b3 = find_tile(goal, row[j])\n",
        "                    a4, b4 = find_tile(goal, row[h])\n",
        "                    \n",
        "                    if a1 == a3 and a2 == a4 and a1 == a2 and b1 < b2 and b3 > b4 and row[j] > row[h]:\n",
        "                        row_conflicts += 1\n",
        "        if conflicts == len(row):\n",
        "            row_conflicts += conflicts - 1\n",
        "        else:\n",
        "            row_conflicts += conflicts\n",
        "    mht_distance = h2(state)\n",
        "    state_t = [list(i) for i in zip(*state)]\n",
        "    goal_t = [list(i) for i in zip(*goal)]\n",
        "    col_conflicts = 0\n",
        "    # check each column\n",
        "    for i in range(m):\n",
        "        col = state_t[i]\n",
        "        conflicts = 0\n",
        "        # cross-check each element \n",
        "        for j in range(len(col)):\n",
        "            for h in range(len(col)):\n",
        "                if col[h] != 0 and j != h and col[j] != 0:\n",
        "                    # coordinates in the state \n",
        "                    a1, b1 = find_tile(state, col[j])\n",
        "                    a2, b2 = find_tile(state, col[h])\n",
        "                    a3, b3 = find_tile(goal, col[j])\n",
        "                    a4, b4 = find_tile(goal, col[h])\n",
        "                    \n",
        "                    if a1 == a3 and a2 == a4 and a1 == a2 and b1 < b2 and b3 > b4 and col[j] > col[h]:\n",
        "                        conflicts += 1\n",
        "        if conflicts == len(col):\n",
        "            col_conflicts += conflicts - 1 \n",
        "        else:\n",
        "            col_conflicts += conflicts\n",
        "    \n",
        "    return mht_distance + 2*(row_conflicts + col_conflicts)\n",
        "\n",
        "# If you implement more than 3 heuristics, then add any extra heuristic functions onto the end of this list.\n",
        "heuristics = [h1, h2, h3]\n",
        "# h2(state=[[1,2,0],[3,4,6],[5,7,8]])"
      ],
      "execution_count": 5,
      "outputs": []
    },
    {
      "cell_type": "code",
      "metadata": {
        "id": "dXZ-diU3jS6p"
      },
      "source": [
        ""
      ],
      "execution_count": null,
      "outputs": []
    },
    {
      "cell_type": "markdown",
      "metadata": {
        "deletable": false,
        "editable": false,
        "nbgrader": {
          "cell_type": "markdown",
          "checksum": "591174c27300d0a4d4d96ee841e46810",
          "grade": false,
          "grade_id": "e224d9",
          "locked": true,
          "schema_version": 3,
          "solution": false
        },
        "id": "L25F-mg6Zh6G"
      },
      "source": [
        "<h1>\n",
        "Question 3    \n",
        "</h1>\n",
        "Code up your A* search using the SolvePuzzle function within the template below.  Please do not modify the function header, otherwise the automated testing will fail.  You may define other functions or import packages as needed in this cell or by adding additional cells."
      ]
    },
    {
      "cell_type": "code",
      "metadata": {
        "colab": {
          "base_uri": "https://localhost:8080/",
          "height": 0
        },
        "id": "DCpqlkv0isFz",
        "outputId": "5f341b43-a7b8-4e3d-886a-86bbb918ad02"
      },
      "source": [
        "def check_format(state):\n",
        "  m = len(state)\n",
        "  #check if the state is in the right format (n*n)\n",
        "  for i in state:\n",
        "    if len(i) != m:\n",
        "      return False\n",
        "  lst_state = flatten_state(state)\n",
        "  #check if there is duplicates in the list.\n",
        "  for i in lst_state:\n",
        "    if lst_state.count(i)>1 == True:\n",
        "      return False\n",
        "  return True\n",
        "\n",
        "def count_inversions(state):\n",
        "  #flatten the list of lists into a list\n",
        "  lst_state = flatten_state(state)\n",
        "  count = 0\n",
        "  n_titles = (len(state)**2)\n",
        "  #for loop to see how count inverstions\n",
        "  for i in range(len(lst_state)-1):\n",
        "    for j in range(i+1,len(lst_state)):\n",
        "      if lst_state[i]>lst_state[j] and lst_state[i] and lst_state[j]:\n",
        "        count +=1\n",
        "  #return True for even count, false for odd\n",
        "  return count%2==0\n",
        "\n",
        "#check if the state is solvable by counting inversions and its len.\n",
        "def solvable(state):\n",
        "  if len(state)%2 ==0:\n",
        "    row,col = find_tile(state,0)\n",
        "    if row %2 ==0 and count_inversions(state) == False:\n",
        "      return True\n",
        "    if row %2 ==1:\n",
        "      return True\n",
        "  if len(state)%2 ==1 and count_inversions(state) == True:\n",
        "    return True\n",
        "  return False\n",
        "\n",
        "solvable([[8,1,2],[0,4,3],[7,6,5]])\n",
        "  "
      ],
      "execution_count": 6,
      "outputs": [
        {
          "output_type": "execute_result",
          "data": {
            "text/plain": [
              "False"
            ]
          },
          "metadata": {},
          "execution_count": 6
        }
      ]
    },
    {
      "cell_type": "code",
      "metadata": {
        "colab": {
          "base_uri": "https://localhost:8080/",
          "height": 0
        },
        "id": "z8qqgkFG-m5t",
        "outputId": "2a5bd066-9959-42b8-d412-69adfc6c939b"
      },
      "source": [
        "state = [[8,1,2],[0,4,3],[7,6,5]]\n",
        "create_goal(state)\n",
        "goal = np.array(create_goal(state)).reshape(len(state),len(state)).tolist()\n",
        "print(goal)"
      ],
      "execution_count": 7,
      "outputs": [
        {
          "output_type": "stream",
          "name": "stdout",
          "text": [
            "[[0, 1, 2], [3, 4, 5], [6, 7, 8]]\n"
          ]
        }
      ]
    },
    {
      "cell_type": "code",
      "metadata": {
        "deletable": false,
        "nbgrader": {
          "cell_type": "code",
          "checksum": "91dda09c4f5df1db4607bb3b82e81afd",
          "grade": false,
          "grade_id": "328d7b",
          "locked": false,
          "schema_version": 3,
          "solution": true
        },
        "id": "9mB-HX-9Zh6G",
        "colab": {
          "base_uri": "https://localhost:8080/",
          "height": 0
        },
        "outputId": "ad77c236-0c56-47cb-b503-bb2a0dd7d9ee"
      },
      "source": [
        "#The following code is heavily influenced by A*search implementation from session 3.1 CS152 taught by Prof.Shekhar\n",
        "\n",
        "from queue import PriorityQueue\n",
        "\n",
        "def solvePuzzle(state, heuristic):\n",
        "     #create a goal state as list of lists\n",
        "     goal_state = np.array(create_goal(state)).reshape(len(state),len(state)).tolist()\n",
        "     \n",
        "     #initial values for output\n",
        "     max_frontier =0\n",
        "     steps = 0\n",
        "     exp = 0\n",
        "     opt_path = None\n",
        "     err =0\n",
        "\n",
        "     #keeps track of the frontier size\n",
        "     current_frontier_size = 0\n",
        "\n",
        "     #check_format of the state input\n",
        "     if check_format(state) is False:\n",
        "              err = -1\n",
        "              return steps,exp, max_frontier, opt_path,err\n",
        "\n",
        "     #check if the state is solvable.         \n",
        "     if solvable(state) is False:\n",
        "              err = -2 \n",
        "              return steps,exp, max_frontier, opt_path,err\n",
        "     #intialize priority queue\n",
        "     frontier = PriorityQueue()\n",
        "\n",
        "     #initialize state as initial node\n",
        "     initial_node = PuzzleNode(state,0,None)\n",
        "\n",
        "     #calculate the f_val for the initial node by its depth + heuristic value.\n",
        "     initial_node.f_val = initial_node.depth +heuristic(initial_node.state)\n",
        "     \n",
        "     #establish a dictionary to keep track of the visited node \n",
        "     visited = {str(initial_node.state):initial_node}\n",
        "\n",
        "     frontier.put(initial_node)\n",
        "     current_frontier_size += 1\n",
        "\n",
        "\n",
        "     while not frontier.empty():\n",
        "              # updates max_frontier \n",
        "              if max_frontier < current_frontier_size:\n",
        "                 max_frontier = current_frontier_size\n",
        "              #get the current node from the queu\n",
        "              cur_node = frontier.get()\n",
        "              #reduce the size of frontier\n",
        "              current_frontier_size -= 1\n",
        "              #check if the current node is pruned\n",
        "              if cur_node.pruned:\n",
        "                       continue\n",
        "              #check if the current node is the goal -> break          \n",
        "              if cur_node.state == goal_state:\n",
        "                       break\n",
        "              else:\n",
        "                       #create a list of its following states based on the previous state\n",
        "                       children = cur_node.swap_create()\n",
        "                       #increase the expansion by 1\n",
        "                       exp+=1\n",
        "                       #for loop through each extended state\n",
        "                       for child in children:\n",
        "                                 # if the state is already visited\n",
        "                                 if str(child.state) in visited.keys():\n",
        "                                     #check if the depth/level of its visited child's state is larger than the current one \n",
        "                                     if visited[str(child.state)].depth > child.depth:\n",
        "                                                    visited[str(child.state)].pruned = True\n",
        "                                     else:\n",
        "                                                    continue\n",
        "                                 #calculate the f value based on its depth and call heuristic function.\n",
        "                                 child.f_val = child.depth + heuristic(child.state)\n",
        "                                 #add child state to a queue\n",
        "                                 frontier.put(child)\n",
        "                                 current_frontier_size +=1\n",
        "                                 visited[str(child.state)] = child\n",
        "      # Reconstruct the optimal path\n",
        "     opt_path = [cur_node.state]\n",
        "      # backtack till there are no more parents\n",
        "     while cur_node.parent:\n",
        "          opt_path.append((cur_node.parent).state)\n",
        "          cur_node = cur_node.parent\n",
        "     opt_path = opt_path[::-1]\n",
        "    \n",
        "     steps = len(opt_path) - 1\n",
        "    \n",
        "     return steps, exp, max_frontier, opt_path, err\n",
        "solvePuzzle([[0,2,1],[3,5,4],[6,7,8]],heuristics[0])"
      ],
      "execution_count": 8,
      "outputs": [
        {
          "output_type": "execute_result",
          "data": {
            "text/plain": [
              "(14,\n",
              " 277,\n",
              " 180,\n",
              " [[[0, 2, 1], [3, 5, 4], [6, 7, 8]],\n",
              "  [[3, 2, 1], [0, 5, 4], [6, 7, 8]],\n",
              "  [[3, 2, 1], [5, 0, 4], [6, 7, 8]],\n",
              "  [[3, 0, 1], [5, 2, 4], [6, 7, 8]],\n",
              "  [[3, 1, 0], [5, 2, 4], [6, 7, 8]],\n",
              "  [[3, 1, 4], [5, 2, 0], [6, 7, 8]],\n",
              "  [[3, 1, 4], [5, 0, 2], [6, 7, 8]],\n",
              "  [[3, 1, 4], [0, 5, 2], [6, 7, 8]],\n",
              "  [[0, 1, 4], [3, 5, 2], [6, 7, 8]],\n",
              "  [[1, 0, 4], [3, 5, 2], [6, 7, 8]],\n",
              "  [[1, 4, 0], [3, 5, 2], [6, 7, 8]],\n",
              "  [[1, 4, 2], [3, 5, 0], [6, 7, 8]],\n",
              "  [[1, 4, 2], [3, 0, 5], [6, 7, 8]],\n",
              "  [[1, 0, 2], [3, 4, 5], [6, 7, 8]],\n",
              "  [[0, 1, 2], [3, 4, 5], [6, 7, 8]]],\n",
              " 0)"
            ]
          },
          "metadata": {},
          "execution_count": 8
        }
      ]
    },
    {
      "cell_type": "code",
      "metadata": {
        "id": "0MmLDw3hirHd"
      },
      "source": [
        ""
      ],
      "execution_count": null,
      "outputs": []
    },
    {
      "cell_type": "markdown",
      "metadata": {
        "deletable": false,
        "editable": false,
        "nbgrader": {
          "cell_type": "markdown",
          "checksum": "93712bce8426499023ace13735ea998d",
          "grade": false,
          "grade_id": "cell-3fc6e687e03655a1",
          "locked": true,
          "schema_version": 3,
          "solution": false,
          "task": false
        },
        "id": "_FXNy9UdZh6H"
      },
      "source": [
        "<h1>Extension Questions</h1>\n",
        "\n",
        "The extensions can be implemented by modifying the code from Q2-3 above appropriately.\n",
        "\n",
        "1. <b>Initial state solvability:</b>  Modify your SolvePuzzle function code in Q3 to return -2 if an initial state is not solvable to the goal state.\n",
        "2. <b>Extra heuristic function:</b> Add another heuristic function (e.g. pattern database) that dominates the misplaced tiles and Manhattan distance heuristics to your Q2 code.\n",
        "3. <b>Memoization:</b>  Modify your heuristic function definitions in Q2 by using a Python decorator to speed up heuristic function evaluation\n",
        "\n",
        "There are test cells provided for extension questions 1 and 2."
      ]
    },
    {
      "cell_type": "markdown",
      "metadata": {
        "deletable": false,
        "editable": false,
        "nbgrader": {
          "cell_type": "markdown",
          "checksum": "c89ea5c4d80cc73d321b4d15a043e8b7",
          "grade": false,
          "grade_id": "fb9ccd",
          "locked": true,
          "schema_version": 3,
          "solution": false
        },
        "id": "wyYRHrR0Zh6H"
      },
      "source": [
        "<h1>Basic Functionality Tests</h1>\n",
        "The cells below contain tests to verify that your code is working properly to be classified as basically functional.  Please note that a grade of <b>3</b> on #aicoding and #search as applicable for each test requires the test to be successfully passed.  <b>If you want to demonstrate some other aspect of your code, then feel free to add additional cells with test code and document what they do.<b>"
      ]
    },
    {
      "cell_type": "code",
      "metadata": {
        "deletable": false,
        "editable": false,
        "nbgrader": {
          "cell_type": "code",
          "checksum": "f8d927b41dc95f7b76d81ed7f6cd13ec",
          "grade": true,
          "grade_id": "8fbc24",
          "locked": true,
          "points": 1,
          "schema_version": 3,
          "solution": false
        },
        "id": "fuf6yJjiZh6I"
      },
      "source": [
        "## Test for state not correctly defined\n",
        "\n",
        "incorrect_state = [[0,1,2],[2,3,4],[5,6,7]]\n",
        "_,_,_,_,err = solvePuzzle(incorrect_state, lambda state: 0)\n",
        "assert(err == -1)"
      ],
      "execution_count": null,
      "outputs": []
    },
    {
      "cell_type": "code",
      "metadata": {
        "deletable": false,
        "editable": false,
        "nbgrader": {
          "cell_type": "code",
          "checksum": "005a7a99916dafeb7180172c66365597",
          "grade": true,
          "grade_id": "cell-5738a2124877e52e",
          "locked": true,
          "points": 2,
          "schema_version": 3,
          "solution": false,
          "task": false
        },
        "id": "MC0jSOj2Zh6I"
      },
      "source": [
        "## Heuristic function tests for misplaced tiles and manhattan distance\n",
        "\n",
        "# Define the working initial states\n",
        "working_initial_states_8_puzzle = ([[2,3,7],[1,8,0],[6,5,4]], [[7,0,8],[4,6,1],[5,3,2]], [[5,7,6],[2,4,3],[8,1,0]])\n",
        "\n",
        "# Test the values returned by the heuristic functions\n",
        "h_mt_vals = [7,8,7]\n",
        "h_man_vals = [15,17,18]\n",
        "\n",
        "for i in range(0,3):\n",
        "    h_mt = heuristics[0](working_initial_states_8_puzzle[i])\n",
        "    h_man = heuristics[1](working_initial_states_8_puzzle[i])\n",
        "    assert(h_mt == h_mt_vals[i])\n",
        "    assert(h_man == h_man_vals[i])\n"
      ],
      "execution_count": 14,
      "outputs": []
    },
    {
      "cell_type": "code",
      "metadata": {
        "deletable": false,
        "editable": false,
        "nbgrader": {
          "cell_type": "code",
          "checksum": "293094319e63d67c5f6d94cd7aee0c02",
          "grade": true,
          "grade_id": "cell-99c07d9541559b52",
          "locked": true,
          "points": 4,
          "schema_version": 3,
          "solution": false,
          "task": false
        },
        "id": "X5wCBHYsZh6I"
      },
      "source": [
        "## A* Tests for 3 x 3 boards\n",
        "## This test runs A* with both heuristics and ensures that the same optimal number of steps are found\n",
        "## with each heuristic.\n",
        "\n",
        "# Optimal path to the solution for the first 3 x 3 state\n",
        "opt_path_soln = [[[2, 3, 7], [1, 8, 0], [6, 5, 4]], [[2, 3, 7], [1, 8, 4], [6, 5, 0]], \n",
        "                 [[2, 3, 7], [1, 8, 4], [6, 0, 5]], [[2, 3, 7], [1, 0, 4], [6, 8, 5]], \n",
        "                 [[2, 0, 7], [1, 3, 4], [6, 8, 5]], [[0, 2, 7], [1, 3, 4], [6, 8, 5]], \n",
        "                 [[1, 2, 7], [0, 3, 4], [6, 8, 5]], [[1, 2, 7], [3, 0, 4], [6, 8, 5]], \n",
        "                 [[1, 2, 7], [3, 4, 0], [6, 8, 5]], [[1, 2, 0], [3, 4, 7], [6, 8, 5]], \n",
        "                 [[1, 0, 2], [3, 4, 7], [6, 8, 5]], [[1, 4, 2], [3, 0, 7], [6, 8, 5]], \n",
        "                 [[1, 4, 2], [3, 7, 0], [6, 8, 5]], [[1, 4, 2], [3, 7, 5], [6, 8, 0]], \n",
        "                 [[1, 4, 2], [3, 7, 5], [6, 0, 8]], [[1, 4, 2], [3, 0, 5], [6, 7, 8]], \n",
        "                 [[1, 0, 2], [3, 4, 5], [6, 7, 8]], [[0, 1, 2], [3, 4, 5], [6, 7, 8]]]\n",
        "\n",
        "astar_steps = [17, 25, 28]\n",
        "for i in range(0,3):\n",
        "    steps_mt, expansions_mt, _, opt_path_mt, _ = solvePuzzle(working_initial_states_8_puzzle[i], heuristics[0])\n",
        "    steps_man, expansions_man, _, opt_path_man, _ = solvePuzzle(working_initial_states_8_puzzle[i], heuristics[1])\n",
        "    # Test whether the number of optimal steps is correct and the same\n",
        "    assert(steps_mt == steps_man == astar_steps[i])\n",
        "    # Test whether or not the manhattan distance dominates the misplaced tiles heuristic in every case\n",
        "    assert(expansions_man < expansions_mt)\n",
        "    # For the first state, test that the optimal path is the same\n",
        "    if i == 0:\n",
        "        assert(opt_path_mt == opt_path_soln)\n"
      ],
      "execution_count": 15,
      "outputs": []
    },
    {
      "cell_type": "code",
      "metadata": {
        "deletable": false,
        "editable": false,
        "nbgrader": {
          "cell_type": "code",
          "checksum": "94ad7f950f87fcc281af1f3946c4e196",
          "grade": true,
          "grade_id": "cell-2981ba2cc7745c22",
          "locked": true,
          "points": 8,
          "schema_version": 3,
          "solution": false,
          "task": false
        },
        "id": "bRmpmVQQZh6J"
      },
      "source": [
        "## A* Test for 4 x 4 board\n",
        "## This test runs A* with both heuristics and ensures that the same optimal number of steps are found\n",
        "## with each heuristic.\n",
        "\n",
        "working_initial_state_15_puzzle = [[1,2,6,3],[0,9,5,7],[4,13,10,11],[8,12,14,15]]\n",
        "steps_mt, expansions_mt, _, _, _ = solvePuzzle(working_initial_state_15_puzzle, heuristics[0])\n",
        "steps_man, expansions_man, _, _, _ = solvePuzzle(working_initial_state_15_puzzle, heuristics[1])\n",
        "# Test whether the number of optimal steps is correct and the same\n",
        "assert(steps_mt == steps_man == 9)\n",
        "# Test whether or not the manhattan distance dominates the misplaced tiles heuristic in every case\n",
        "assert(expansions_mt >= expansions_man)"
      ],
      "execution_count": 16,
      "outputs": []
    },
    {
      "cell_type": "markdown",
      "metadata": {
        "deletable": false,
        "editable": false,
        "nbgrader": {
          "cell_type": "markdown",
          "checksum": "7251e4aad7b1e19b42a78e54d8e7b920",
          "grade": false,
          "grade_id": "cell-2c262efb90518641",
          "locked": true,
          "schema_version": 3,
          "solution": false,
          "task": false
        },
        "id": "p_H2i8YdZh6J"
      },
      "source": [
        "<h1>Extension Tests</h1>\n",
        "The cells below can be used to test the extension questions.  Memoization if implemented will be tested on the final submission - you can test it yourself by testing the execution time of the heuristic functions with and without it."
      ]
    },
    {
      "cell_type": "code",
      "metadata": {
        "deletable": false,
        "editable": false,
        "nbgrader": {
          "cell_type": "code",
          "checksum": "efc4b74c95e814a4fb07d2c5ed26f337",
          "grade": true,
          "grade_id": "cell-21cada9978e9a1bb",
          "locked": true,
          "points": 16,
          "schema_version": 3,
          "solution": false,
          "task": false
        },
        "id": "MBjwMG5CZh6J"
      },
      "source": [
        "## Puzzle solvability test\n",
        "\n",
        "unsolvable_initial_state = [[7,5,6],[2,4,3],[8,1,0]]\n",
        "_,_,_,_,err = solvePuzzle(unsolvable_initial_state, lambda state: 0)\n",
        "assert(err == -2)"
      ],
      "execution_count": 17,
      "outputs": []
    },
    {
      "cell_type": "code",
      "metadata": {
        "deletable": false,
        "editable": false,
        "nbgrader": {
          "cell_type": "code",
          "checksum": "9b7ebb02bcf675ab3a5157eaa1155763",
          "grade": true,
          "grade_id": "cell-8c7a414efc152379",
          "locked": true,
          "points": 32,
          "schema_version": 3,
          "solution": false,
          "task": false
        },
        "id": "tWzrKM_CZh6J",
        "colab": {
          "base_uri": "https://localhost:8080/",
          "height": 195
        },
        "outputId": "8862894c-0c35-408d-a4a4-ca4c8b4e2149"
      },
      "source": [
        "## Extra heuristic function test.  \n",
        "## This tests that for all initial conditions, the new heuristic dominates over the manhattan distance.\n",
        "\n",
        "dom = 0\n",
        "for i in range(0,3):\n",
        "    steps_new, expansions_new, _, _, _ = solvePuzzle(working_initial_states_8_puzzle[i], heuristics[2])\n",
        "    steps_man, expansions_man, _, _, _ = solvePuzzle(working_initial_states_8_puzzle[i], heuristics[1])\n",
        "    # Test whether the number of optimal steps is correct and the same\n",
        "    assert(steps_new == steps_man == astar_steps[i])\n",
        "    # Test whether or not the manhattan distance is dominated by the new heuristic in every case, by checking\n",
        "    # the number of nodes expanded\n",
        "    dom = expansions_man - expansions_new\n",
        "    assert(dom > 0)"
      ],
      "execution_count": 18,
      "outputs": [
        {
          "output_type": "error",
          "ename": "AssertionError",
          "evalue": "ignored",
          "traceback": [
            "\u001b[0;31m---------------------------------------------------------------------------\u001b[0m",
            "\u001b[0;31mAssertionError\u001b[0m                            Traceback (most recent call last)",
            "\u001b[0;32m<ipython-input-18-5b5de863ad21>\u001b[0m in \u001b[0;36m<module>\u001b[0;34m()\u001b[0m\n\u001b[1;32m     11\u001b[0m     \u001b[0;31m# the number of nodes expanded\u001b[0m\u001b[0;34m\u001b[0m\u001b[0;34m\u001b[0m\u001b[0;34m\u001b[0m\u001b[0m\n\u001b[1;32m     12\u001b[0m     \u001b[0mdom\u001b[0m \u001b[0;34m=\u001b[0m \u001b[0mexpansions_man\u001b[0m \u001b[0;34m-\u001b[0m \u001b[0mexpansions_new\u001b[0m\u001b[0;34m\u001b[0m\u001b[0;34m\u001b[0m\u001b[0m\n\u001b[0;32m---> 13\u001b[0;31m     \u001b[0;32massert\u001b[0m\u001b[0;34m(\u001b[0m\u001b[0mdom\u001b[0m \u001b[0;34m>\u001b[0m \u001b[0;36m0\u001b[0m\u001b[0;34m)\u001b[0m\u001b[0;34m\u001b[0m\u001b[0;34m\u001b[0m\u001b[0m\n\u001b[0m",
            "\u001b[0;31mAssertionError\u001b[0m: "
          ]
        }
      ]
    },
    {
      "cell_type": "markdown",
      "metadata": {
        "id": "3Mjx0GTHJmM-"
      },
      "source": [
        "The current test failed because in the first puzzle, there is no linear conflicts, making manhattan heuristics and linear conflicts heuristic no different. However, this case is special and in other cases, linear conflicts dominates the mahattan one."
      ]
    },
    {
      "cell_type": "code",
      "metadata": {
        "id": "TI7u-wUqKYYk"
      },
      "source": [
        "dom = 0\n",
        "for i in range(1,3):\n",
        "    steps_new, expansions_new, _, _, _ = solvePuzzle(working_initial_states_8_puzzle[i], heuristics[2])\n",
        "    steps_man, expansions_man, _, _, _ = solvePuzzle(working_initial_states_8_puzzle[i], heuristics[1])\n",
        "    # Test whether the number of optimal steps is correct and the same\n",
        "    assert(steps_new == steps_man == astar_steps[i])\n",
        "    # Test whether or not the manhattan distance is dominated by the new heuristic in every case, by checking\n",
        "    # the number of nodes expanded\n",
        "    dom = expansions_man - expansions_new\n",
        "    assert(dom > 0)"
      ],
      "execution_count": 20,
      "outputs": []
    },
    {
      "cell_type": "code",
      "metadata": {
        "deletable": false,
        "editable": false,
        "nbgrader": {
          "cell_type": "code",
          "checksum": "af551e00bc8334100b7cf901ece597a2",
          "grade": true,
          "grade_id": "cell-09f710b6aa2e3fa3",
          "locked": true,
          "points": 64,
          "schema_version": 3,
          "solution": false,
          "task": false
        },
        "id": "tLydV6nqZh6K"
      },
      "source": [
        "## Memoization test - will be carried out after submission"
      ],
      "execution_count": null,
      "outputs": []
    },
    {
      "cell_type": "markdown",
      "metadata": {
        "id": "w94dkS9VMKWu"
      },
      "source": [
        "Reference:\n",
        "1. N-puzzle solver using A* with Manhattan + Linear Conflict, 2021. Retrieved from: https://codereview.stackexchange.com/questions/205667/n-puzzle-solver-using-a-with-manhattan-linear-conflict\n",
        "2. Looking into k-puzzle Heuristics, Ding Yuchen, 2020. Retrieved from: https://medium.com/swlh/looking-into-k-puzzle-heuristics-6189318eaca2\n",
        "3. Hasson Mayer Yung, 1992, Linear Conflicts. Retrieved from: https://cse.sc.edu/~mgv/csce580sp15/gradPres/HanssonMayerYung1992.pdf\n",
        "4. GeeksforGeeks, 2021. Memoization using decorators in Python. Retrieved from: https://www.geeksforgeeks.org/memoization-using-decorators-in-python/\n",
        "5. Linear Conflict and Mahattan, Youtube, 2021. Retrieved from : https://www.youtube.com/watch?v=8t3lPD2Qtao\n"
      ]
    }
  ]
}